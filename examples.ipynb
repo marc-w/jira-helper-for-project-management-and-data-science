{
 "cells": [
  {
   "cell_type": "code",
   "execution_count": null,
   "id": "535e21fe-3591-4d39-bee4-af1b2a65e524",
   "metadata": {},
   "outputs": [],
   "source": [
    "# Initialize the main instance of the JiraHelper class, run a simple call\n",
    "# to validate credentials.\n",
    "\n",
    "from pprint import pprint\n",
    "from lib.jira import JiraHelper\n",
    "\n",
    "# create instance\n",
    "jh = JiraHelper()\n",
    "\n",
    "project_slug = jh.get_project_slug()\n",
    "\n",
    "# Simple check\n",
    "print(f'Project slug: {project_slug}')"
   ]
  },
  {
   "cell_type": "code",
   "execution_count": null,
   "id": "376144e3-e3ee-4980-ac90-2a1392a26953",
   "metadata": {},
   "outputs": [],
   "source": [
    "# Get a single issue, set to a variable for later use\n",
    "\n",
    "# change this to match a Jira issue on your workspace\n",
    "issue_slug = \"MP-1\"  # THIS IS NOT YOUR ISSUE -- CHANGE!\n",
    "\n",
    "test_issue = jh.get_issue_by_slug(issue_slug)  \n",
    "\n",
    "# Should be working\n",
    "print(test_issue)\n",
    "\n",
    "# all the data\n",
    "pprint(test_issue.__dict__)"
   ]
  },
  {
   "cell_type": "code",
   "execution_count": null,
   "id": "8e26ee5a-7df4-4ce1-b17b-20bf8e70b6d6",
   "metadata": {
    "scrolled": true
   },
   "outputs": [],
   "source": [
    "# Execute arbitrary JQL to get all issues and output key information\n",
    "# traversing the return data for the issues\n",
    "\n",
    "jql = f'project = \"{project_slug}\" ORDER BY created DESC'\n",
    "\n",
    "issues = jh.execute_jql(jql)\n",
    "\n",
    "print(f\"{len(issues)} issue(s) found\")\n",
    "print(\"- - - - - - - - - - - - - - \" )\n",
    "\n",
    "if issues:\n",
    "    for issue in issues:\n",
    "        # print(issue.key)\n",
    "        print(f\"ISSUE ID: {issue.id}\")\n",
    "        print(f\"ISSUE KEY: {issue.key}\")\n",
    "        print(f\"SERVER: {issue._options.get('server')}\")\n",
    "        print(f'PRIORITY: {jh.r_get(issue.raw, [\"fields\", \"priority\", \"name\"])}')\n",
    "        print(f'RESOLUTION: {jh.r_get(issue.raw, [\"fields\", \"resolution\"])}')\n",
    "        print(f'CREATED: {jh.r_get(issue.raw, [\"fields\", \"created\"])}')\n",
    "        print(f'UPDATED: {jh.r_get(issue.raw, [\"fields\", \"updated\"])}')\n",
    "        print(f'COMMENT COUNT: {len(jh.r_get(issue.raw, [\"fields\", \"comment\", \"comments\"]))}')\n",
    "        print(f'REPORTER EMAIL: {jh.r_get(issue.raw, [\"fields\", \"reporter\", \"displayName\"])}: {jh.r_get(issue.raw, [\"fields\", \"reporter\", \"emailAddress\"])}')\n",
    "        print(f'CREATER NAME/EMAIL: {jh.r_get(issue.raw, [\"fields\", \"creator\", \"displayName\"])}:  {jh.r_get(issue.raw, [\"fields\", \"creator\", \"emailAddress\"])}')\n",
    "        print(f'DESCRIPTION: {jh.r_get(issue.raw, [\"fields\", \"description\"])}')\n",
    "        print(f'DUE DATE: {jh.r_get(issue.raw, [\"fields\", \"duedate\"])}')\n",
    "        # labels sub-loop\n",
    "        if labels := jh.r_get(issue.raw, [\"fields\", \"labels\"]):\n",
    "            print(\"LABELS: \", end=\"\")\n",
    "            for label in labels:\n",
    "                print(label, end=\" \")\n",
    "        print(\"\\n--------\\n\")\n",
    "        "
   ]
  },
  {
   "cell_type": "code",
   "execution_count": null,
   "id": "4f4a0fca-8181-44a1-b12b-74d007cd1a7b",
   "metadata": {},
   "outputs": [],
   "source": [
    "# Get transitions for a single issue (issue from previous cell)\n",
    "\n",
    "transitions = jh.get_transitions(test_issue)\n",
    "\n",
    "print(f\"{len(transitions)} transitions found.\")\n",
    "\n",
    "\n",
    "if transitions:\n",
    "    print(\"\\nID: name\")\n",
    "    print(\"-------\")\n",
    "    for k, v in transitions.items():\n",
    "        print(f\"{k}: {v}\")\n",
    "    print(\"-------\")\n",
    "\n"
   ]
  }
 ],
 "metadata": {
  "kernelspec": {
   "display_name": "Python 3 (ipykernel)",
   "language": "python",
   "name": "python3"
  },
  "language_info": {
   "codemirror_mode": {
    "name": "ipython",
    "version": 3
   },
   "file_extension": ".py",
   "mimetype": "text/x-python",
   "name": "python",
   "nbconvert_exporter": "python",
   "pygments_lexer": "ipython3",
   "version": "3.10.11"
  }
 },
 "nbformat": 4,
 "nbformat_minor": 5
}
